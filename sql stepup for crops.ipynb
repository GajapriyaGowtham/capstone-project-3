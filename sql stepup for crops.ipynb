{
 "cells": [
  {
   "cell_type": "code",
   "execution_count": 1,
   "id": "63519a7e",
   "metadata": {},
   "outputs": [],
   "source": [
    "import pandas as pd\n",
    "import numpy as np\n",
    "import matplotlib.pyplot as plt\n",
    "import seaborn as sns\n",
    "from sklearn.linear_model import LinearRegression\n",
    "from sklearn.model_selection import train_test_split\n",
    "from sklearn.metrics import r2_score, mean_squared_error\n",
    "from sklearn.preprocessing import LabelEncoder"
   ]
  },
  {
   "cell_type": "code",
   "execution_count": 4,
   "id": "37128be5",
   "metadata": {},
   "outputs": [],
   "source": [
    "# Step 1: Load the data\n",
    "df= pd.read_csv(r\"C:\\Users\\brand\\Desktop\\guvi\\crop_csv.csv\")"
   ]
  },
  {
   "cell_type": "code",
   "execution_count": 5,
   "id": "efb07526",
   "metadata": {},
   "outputs": [
    {
     "data": {
      "text/html": [
       "<div>\n",
       "<style scoped>\n",
       "    .dataframe tbody tr th:only-of-type {\n",
       "        vertical-align: middle;\n",
       "    }\n",
       "\n",
       "    .dataframe tbody tr th {\n",
       "        vertical-align: top;\n",
       "    }\n",
       "\n",
       "    .dataframe thead th {\n",
       "        text-align: right;\n",
       "    }\n",
       "</style>\n",
       "<table border=\"1\" class=\"dataframe\">\n",
       "  <thead>\n",
       "    <tr style=\"text-align: right;\">\n",
       "      <th></th>\n",
       "      <th>Area</th>\n",
       "      <th>Item</th>\n",
       "      <th>Year</th>\n",
       "      <th>Area_Harvested</th>\n",
       "      <th>Production</th>\n",
       "      <th>Yield</th>\n",
       "      <th>Productivity</th>\n",
       "    </tr>\n",
       "  </thead>\n",
       "  <tbody>\n",
       "    <tr>\n",
       "      <th>0</th>\n",
       "      <td>Afghanistan</td>\n",
       "      <td>Almonds, in shell</td>\n",
       "      <td>2019</td>\n",
       "      <td>29203.0</td>\n",
       "      <td>38205.0</td>\n",
       "      <td>1308.3</td>\n",
       "      <td>1.308256</td>\n",
       "    </tr>\n",
       "    <tr>\n",
       "      <th>1</th>\n",
       "      <td>Afghanistan</td>\n",
       "      <td>Almonds, in shell</td>\n",
       "      <td>2020</td>\n",
       "      <td>22134.0</td>\n",
       "      <td>39307.0</td>\n",
       "      <td>1775.9</td>\n",
       "      <td>1.775865</td>\n",
       "    </tr>\n",
       "    <tr>\n",
       "      <th>2</th>\n",
       "      <td>Afghanistan</td>\n",
       "      <td>Almonds, in shell</td>\n",
       "      <td>2021</td>\n",
       "      <td>36862.0</td>\n",
       "      <td>64256.0</td>\n",
       "      <td>1743.2</td>\n",
       "      <td>1.743150</td>\n",
       "    </tr>\n",
       "    <tr>\n",
       "      <th>3</th>\n",
       "      <td>Afghanistan</td>\n",
       "      <td>Almonds, in shell</td>\n",
       "      <td>2022</td>\n",
       "      <td>36462.0</td>\n",
       "      <td>63515.0</td>\n",
       "      <td>1742.0</td>\n",
       "      <td>1.741951</td>\n",
       "    </tr>\n",
       "    <tr>\n",
       "      <th>4</th>\n",
       "      <td>Afghanistan</td>\n",
       "      <td>Almonds, in shell</td>\n",
       "      <td>2023</td>\n",
       "      <td>37000.0</td>\n",
       "      <td>67000.0</td>\n",
       "      <td>1810.8</td>\n",
       "      <td>1.810811</td>\n",
       "    </tr>\n",
       "  </tbody>\n",
       "</table>\n",
       "</div>"
      ],
      "text/plain": [
       "          Area               Item  Year  Area_Harvested  Production   Yield  \\\n",
       "0  Afghanistan  Almonds, in shell  2019         29203.0     38205.0  1308.3   \n",
       "1  Afghanistan  Almonds, in shell  2020         22134.0     39307.0  1775.9   \n",
       "2  Afghanistan  Almonds, in shell  2021         36862.0     64256.0  1743.2   \n",
       "3  Afghanistan  Almonds, in shell  2022         36462.0     63515.0  1742.0   \n",
       "4  Afghanistan  Almonds, in shell  2023         37000.0     67000.0  1810.8   \n",
       "\n",
       "   Productivity  \n",
       "0      1.308256  \n",
       "1      1.775865  \n",
       "2      1.743150  \n",
       "3      1.741951  \n",
       "4      1.810811  "
      ]
     },
     "execution_count": 5,
     "metadata": {},
     "output_type": "execute_result"
    }
   ],
   "source": [
    "df.head()"
   ]
  },
  {
   "cell_type": "code",
   "execution_count": 6,
   "id": "c35db630",
   "metadata": {},
   "outputs": [
    {
     "name": "stdout",
     "output_type": "stream",
     "text": [
      "                       Area                        Item  Year  Area_Harvested  \\\n",
      "345                 Albania  Other citrus fruit, n.e.c.  2022             0.0   \n",
      "346                 Albania  Other citrus fruit, n.e.c.  2023             0.0   \n",
      "966     Antigua and Barbuda         Carrots and turnips  2023             0.0   \n",
      "1050    Antigua and Barbuda                     Spinach  2021             0.0   \n",
      "8372   China, Hong Kong SAR                        Rice  2019             0.0   \n",
      "...                     ...                         ...   ...             ...   \n",
      "36267              Slovakia      Unmanufactured tobacco  2019            10.0   \n",
      "36268              Slovakia      Unmanufactured tobacco  2020            10.0   \n",
      "36286              Slovenia           Almonds, in shell  2023            20.0   \n",
      "37453                 Spain  Other citrus fruit, n.e.c.  2020          1370.0   \n",
      "38473           Switzerland                  Artichokes  2021             6.0   \n",
      "\n",
      "       Production    Yield  Productivity  \n",
      "345         11.00  26814.3           inf  \n",
      "346         11.30  27581.2           inf  \n",
      "966          4.95  11748.2           inf  \n",
      "1050         1.86   3795.9           inf  \n",
      "8372         0.05   2102.4           inf  \n",
      "...           ...      ...           ...  \n",
      "36267        0.00      0.0           0.0  \n",
      "36268        0.00      0.0           0.0  \n",
      "36286        0.00      0.0           0.0  \n",
      "37453        0.00      0.0           0.0  \n",
      "38473        0.00      0.0           0.0  \n",
      "\n",
      "[154 rows x 7 columns]\n"
     ]
    }
   ],
   "source": [
    "# Display rows where any column has a value of 0\n",
    "df_zero_values = df[(df == 0).any(axis=1)]\n",
    "\n",
    "# Show the result\n",
    "print(df_zero_values)"
   ]
  },
  {
   "cell_type": "code",
   "execution_count": 7,
   "id": "0ea6ddb3",
   "metadata": {},
   "outputs": [
    {
     "name": "stdout",
     "output_type": "stream",
     "text": [
      "              Area               Item  Year  Area_Harvested   Production  \\\n",
      "0      Afghanistan  Almonds, in shell  2019         29203.0   38205.0000   \n",
      "1      Afghanistan  Almonds, in shell  2020         22134.0   39307.0000   \n",
      "2      Afghanistan  Almonds, in shell  2021         36862.0   64256.0000   \n",
      "3      Afghanistan  Almonds, in shell  2022         36462.0   63515.0000   \n",
      "4      Afghanistan  Almonds, in shell  2023         37000.0   67000.0000   \n",
      "...            ...                ...   ...             ...          ...   \n",
      "44822     Zimbabwe              Wheat  2019         24186.0   94685.0000   \n",
      "44823     Zimbabwe              Wheat  2020         44466.0  212530.0000   \n",
      "44824     Zimbabwe              Wheat  2021         57715.0  245813.4475   \n",
      "44825     Zimbabwe              Wheat  2022         48504.0  245813.4475   \n",
      "44826     Zimbabwe              Wheat  2023         57715.0  245813.4475   \n",
      "\n",
      "        Yield  Productivity  \n",
      "0      1308.3      1.308256  \n",
      "1      1775.9      1.775865  \n",
      "2      1743.2      1.743150  \n",
      "3      1742.0      1.741951  \n",
      "4      1810.8      1.810811  \n",
      "...       ...           ...  \n",
      "44822  3914.9      3.914868  \n",
      "44823  4779.6      4.779607  \n",
      "44824  5075.9      5.075895  \n",
      "44825  5154.2      5.154214  \n",
      "44826  4553.8      4.553872  \n",
      "\n",
      "[44827 rows x 7 columns]\n"
     ]
    }
   ],
   "source": [
    "# Remove rows where any column has a 0\n",
    "df_cleaned = df[~(df == 0).any(axis=1)]\n",
    "\n",
    "# Reset index after removal (optional)\n",
    "df_cleaned.reset_index(drop=True, inplace=True)\n",
    "\n",
    "# Show the cleaned data\n",
    "print(df_cleaned)"
   ]
  },
  {
   "cell_type": "code",
   "execution_count": 8,
   "id": "4950a8ab",
   "metadata": {},
   "outputs": [],
   "source": [
    "# Save to CSV (without index)\n",
    "df_cleaned.to_csv(r\"C:\\Users\\brand\\Desktop\\guvi\\crop_cleaned.csv\", index=False)"
   ]
  },
  {
   "cell_type": "code",
   "execution_count": 9,
   "id": "6e864b4f",
   "metadata": {},
   "outputs": [
    {
     "name": "stdout",
     "output_type": "stream",
     "text": [
      "Requirement already satisfied: mysql-connector-python in c:\\anaconda\\lib\\site-packages (9.3.0)\n"
     ]
    }
   ],
   "source": [
    "!pip install mysql-connector-python"
   ]
  },
  {
   "cell_type": "code",
   "execution_count": 10,
   "id": "f68bd278",
   "metadata": {},
   "outputs": [],
   "source": [
    "import mysql.connector"
   ]
  },
  {
   "cell_type": "code",
   "execution_count": 11,
   "id": "b4baa664",
   "metadata": {},
   "outputs": [],
   "source": [
    "mydb = mysql.connector.connect(\n",
    "    host=\"localhost\",\n",
    "    user=\"root\",\n",
    "    password=\"\",\n",
    "    # port=3306\n",
    ")"
   ]
  },
  {
   "cell_type": "code",
   "execution_count": 12,
   "id": "7f11b678",
   "metadata": {},
   "outputs": [],
   "source": [
    "mycursor = mydb.cursor(buffered=True)"
   ]
  },
  {
   "cell_type": "code",
   "execution_count": 13,
   "id": "369e75d4",
   "metadata": {},
   "outputs": [
    {
     "name": "stdout",
     "output_type": "stream",
     "text": [
      "CMySQLCursorBuffered: SHOW DATABASES\n"
     ]
    }
   ],
   "source": [
    "mycursor.execute(\"SHOW DATABASES\")\n",
    "print(mycursor)"
   ]
  },
  {
   "cell_type": "code",
   "execution_count": 14,
   "id": "71372e71",
   "metadata": {},
   "outputs": [
    {
     "name": "stdout",
     "output_type": "stream",
     "text": [
      "('guvi',)\n",
      "('information_schema',)\n",
      "('mdtm40',)\n",
      "('mysql',)\n",
      "('performance_schema',)\n",
      "('phpmyadmin',)\n",
      "('practise',)\n",
      "('project',)\n",
      "('sportsradar',)\n",
      "('test',)\n"
     ]
    }
   ],
   "source": [
    "mycursor.execute(\"SHOW DATABASES\")\n",
    "\n",
    "for x in mycursor:\n",
    "    print(x)"
   ]
  },
  {
   "cell_type": "code",
   "execution_count": 15,
   "id": "89ab9245",
   "metadata": {},
   "outputs": [],
   "source": [
    "mycursor.execute(\"USE project\")"
   ]
  },
  {
   "cell_type": "code",
   "execution_count": null,
   "id": "a503eb38",
   "metadata": {},
   "outputs": [],
   "source": [
    "mycursor.execute(\"\"\"\n",
    "    CREATE TABLE cropdata (\n",
    "        Area VARCHAR(100),\n",
    "        Item VARCHAR(100),\n",
    "        Year INT,\n",
    "        Area_Harvested FLOAT,\n",
    "        Production FLOAT,\n",
    "        Yield FLOAT,\n",
    "        Productivity FLOAT\n",
    "    )\n",
    "\"\"\")"
   ]
  },
  {
   "cell_type": "code",
   "execution_count": 17,
   "id": "a510b9c9",
   "metadata": {},
   "outputs": [],
   "source": [
    "import csv\n",
    "\n",
    "with open(r\"C:\\Users\\brand\\Desktop\\guvi\\crop_cleaned.csv\", 'r') as f:\n",
    "    reader = csv.reader(f)\n",
    "    next(reader)  # Skip header\n",
    "    for row in reader:\n",
    "        mycursor.execute(\"\"\"\n",
    "            INSERT INTO cropdata (Area, Item, Year, Area_Harvested, Production, Yield, Productivity)\n",
    "            VALUES (%s, %s, %s, %s, %s, %s, %s)\n",
    "        \"\"\", row)\n",
    "\n",
    "mydb.commit()"
   ]
  },
  {
   "cell_type": "code",
   "execution_count": null,
   "id": "99fc761b",
   "metadata": {},
   "outputs": [],
   "source": []
  }
 ],
 "metadata": {
  "kernelspec": {
   "display_name": "Python 3",
   "language": "python",
   "name": "python3"
  },
  "language_info": {
   "codemirror_mode": {
    "name": "ipython",
    "version": 3
   },
   "file_extension": ".py",
   "mimetype": "text/x-python",
   "name": "python",
   "nbconvert_exporter": "python",
   "pygments_lexer": "ipython3",
   "version": "3.12.7"
  }
 },
 "nbformat": 4,
 "nbformat_minor": 5
}
